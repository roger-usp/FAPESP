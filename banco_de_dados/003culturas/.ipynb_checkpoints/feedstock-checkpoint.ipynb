{
 "cells": [
  {
   "cell_type": "code",
   "execution_count": 1,
   "id": "44fdf1a2",
   "metadata": {},
   "outputs": [],
   "source": [
    "import pandas as pd\n",
    "import numpy as np\n",
    "import sqlite3"
   ]
  },
  {
   "cell_type": "code",
   "execution_count": 2,
   "id": "5b2e4953",
   "metadata": {},
   "outputs": [],
   "source": [
    "con = sqlite3.connect(\"../FAPESP.db\")\n",
    "my_cursor = con.cursor()"
   ]
  },
  {
   "cell_type": "code",
   "execution_count": 3,
   "id": "1cbe2902",
   "metadata": {},
   "outputs": [
    {
     "data": {
      "text/plain": [
       "array([['1', 'Culturas'],\n",
       "       ['2', 'Resíduos']], dtype='<U11')"
      ]
     },
     "execution_count": 3,
     "metadata": {},
     "output_type": "execute_result"
    }
   ],
   "source": [
    "con.executemany(\n",
    "    \"\"\"\n",
    "    INSERT INTO feedstock_type (name)\n",
    "    VALUES (?)\n",
    "    \"\"\",\n",
    "    [[\"Culturas\"], [\"Resíduos\"]]\n",
    ")\n",
    "\n",
    "np.array(list(con.execute(\"SELECT * FROM feedstock_type\")))"
   ]
  },
  {
   "cell_type": "markdown",
   "id": "d8a371ab",
   "metadata": {},
   "source": [
    "#### A conveção de unidades para a tabela feedstock_production é ton/ano"
   ]
  },
  {
   "cell_type": "code",
   "execution_count": 4,
   "id": "5c7639f0",
   "metadata": {},
   "outputs": [],
   "source": [
    "def format_df(df):\n",
    "    df = df.rename(columns={\"Quantidade produzida (Toneladas)\": \"qnt_produzida\"})\n",
    "    df = df[[\"qnt_produzida\", \"mun_id\"]]\n",
    "    return df"
   ]
  },
  {
   "cell_type": "markdown",
   "id": "9b44f740",
   "metadata": {},
   "source": [
    "# df Soja"
   ]
  },
  {
   "cell_type": "code",
   "execution_count": 5,
   "id": "52c1d466",
   "metadata": {},
   "outputs": [
    {
     "data": {
      "text/html": [
       "<div>\n",
       "<style scoped>\n",
       "    .dataframe tbody tr th:only-of-type {\n",
       "        vertical-align: middle;\n",
       "    }\n",
       "\n",
       "    .dataframe tbody tr th {\n",
       "        vertical-align: top;\n",
       "    }\n",
       "\n",
       "    .dataframe thead th {\n",
       "        text-align: right;\n",
       "    }\n",
       "</style>\n",
       "<table border=\"1\" class=\"dataframe\">\n",
       "  <thead>\n",
       "    <tr style=\"text-align: right;\">\n",
       "      <th></th>\n",
       "      <th>Local</th>\n",
       "      <th>UF</th>\n",
       "      <th>Quantidade produzida (Toneladas)</th>\n",
       "      <th>mun_id</th>\n",
       "    </tr>\n",
       "  </thead>\n",
       "  <tbody>\n",
       "    <tr>\n",
       "      <th>0</th>\n",
       "      <td>Capixaba</td>\n",
       "      <td>Acre</td>\n",
       "      <td>3812</td>\n",
       "      <td>1200179</td>\n",
       "    </tr>\n",
       "    <tr>\n",
       "      <th>1</th>\n",
       "      <td>Plácido de Castro</td>\n",
       "      <td>Acre</td>\n",
       "      <td>10167</td>\n",
       "      <td>1200385</td>\n",
       "    </tr>\n",
       "    <tr>\n",
       "      <th>2</th>\n",
       "      <td>Rio Branco</td>\n",
       "      <td>Acre</td>\n",
       "      <td>4610</td>\n",
       "      <td>1200401</td>\n",
       "    </tr>\n",
       "    <tr>\n",
       "      <th>3</th>\n",
       "      <td>Senador Guiomard</td>\n",
       "      <td>Acre</td>\n",
       "      <td>900</td>\n",
       "      <td>1200450</td>\n",
       "    </tr>\n",
       "    <tr>\n",
       "      <th>4</th>\n",
       "      <td>Epitaciolândia</td>\n",
       "      <td>Acre</td>\n",
       "      <td>67</td>\n",
       "      <td>1200252</td>\n",
       "    </tr>\n",
       "  </tbody>\n",
       "</table>\n",
       "</div>"
      ],
      "text/plain": [
       "               Local    UF  Quantidade produzida (Toneladas)   mun_id\n",
       "0           Capixaba  Acre                              3812  1200179\n",
       "1  Plácido de Castro  Acre                             10167  1200385\n",
       "2         Rio Branco  Acre                              4610  1200401\n",
       "3   Senador Guiomard  Acre                               900  1200450\n",
       "4     Epitaciolândia  Acre                                67  1200252"
      ]
     },
     "execution_count": 5,
     "metadata": {},
     "output_type": "execute_result"
    }
   ],
   "source": [
    "soja = pd.read_excel(\"soja.xlsx\")\n",
    "soja.head()"
   ]
  },
  {
   "cell_type": "code",
   "execution_count": 6,
   "id": "c5f7b75d",
   "metadata": {},
   "outputs": [],
   "source": [
    "soja = format_df(soja)"
   ]
  },
  {
   "cell_type": "code",
   "execution_count": 7,
   "id": "74e44544",
   "metadata": {},
   "outputs": [
    {
     "data": {
      "text/html": [
       "<div>\n",
       "<style scoped>\n",
       "    .dataframe tbody tr th:only-of-type {\n",
       "        vertical-align: middle;\n",
       "    }\n",
       "\n",
       "    .dataframe tbody tr th {\n",
       "        vertical-align: top;\n",
       "    }\n",
       "\n",
       "    .dataframe thead th {\n",
       "        text-align: right;\n",
       "    }\n",
       "</style>\n",
       "<table border=\"1\" class=\"dataframe\">\n",
       "  <thead>\n",
       "    <tr style=\"text-align: right;\">\n",
       "      <th></th>\n",
       "      <th>qnt_produzida</th>\n",
       "      <th>mun_id</th>\n",
       "    </tr>\n",
       "  </thead>\n",
       "  <tbody>\n",
       "    <tr>\n",
       "      <th>0</th>\n",
       "      <td>3812</td>\n",
       "      <td>1200179</td>\n",
       "    </tr>\n",
       "    <tr>\n",
       "      <th>1</th>\n",
       "      <td>10167</td>\n",
       "      <td>1200385</td>\n",
       "    </tr>\n",
       "    <tr>\n",
       "      <th>2</th>\n",
       "      <td>4610</td>\n",
       "      <td>1200401</td>\n",
       "    </tr>\n",
       "    <tr>\n",
       "      <th>3</th>\n",
       "      <td>900</td>\n",
       "      <td>1200450</td>\n",
       "    </tr>\n",
       "    <tr>\n",
       "      <th>4</th>\n",
       "      <td>67</td>\n",
       "      <td>1200252</td>\n",
       "    </tr>\n",
       "  </tbody>\n",
       "</table>\n",
       "</div>"
      ],
      "text/plain": [
       "   qnt_produzida   mun_id\n",
       "0           3812  1200179\n",
       "1          10167  1200385\n",
       "2           4610  1200401\n",
       "3            900  1200450\n",
       "4             67  1200252"
      ]
     },
     "execution_count": 7,
     "metadata": {},
     "output_type": "execute_result"
    }
   ],
   "source": [
    "soja.head()"
   ]
  },
  {
   "cell_type": "markdown",
   "id": "24633b1b",
   "metadata": {},
   "source": [
    "# df Resíduos Soja"
   ]
  },
  {
   "cell_type": "code",
   "execution_count": 8,
   "id": "6b900da3",
   "metadata": {},
   "outputs": [],
   "source": [
    "porcentagem_residuos_soja = 1.5\n",
    "res_soja = soja.copy()\n",
    "res_soja[\"qnt_produzida\"] = res_soja[\"qnt_produzida\"].apply(lambda x: porcentagem_residuos_soja*x) "
   ]
  },
  {
   "cell_type": "markdown",
   "id": "19a6939c",
   "metadata": {},
   "source": [
    "Santana-Méridas, Omar, Azucena González-Coloma, and Raúl Sánchez-Vioque. \"Agricultural residues as a source of bioactive natural products.\" Phytochemistry reviews 11.4 (2012): 447-466."
   ]
  },
  {
   "cell_type": "code",
   "execution_count": 9,
   "id": "0b7f9853",
   "metadata": {},
   "outputs": [
    {
     "data": {
      "text/html": [
       "<div>\n",
       "<style scoped>\n",
       "    .dataframe tbody tr th:only-of-type {\n",
       "        vertical-align: middle;\n",
       "    }\n",
       "\n",
       "    .dataframe tbody tr th {\n",
       "        vertical-align: top;\n",
       "    }\n",
       "\n",
       "    .dataframe thead th {\n",
       "        text-align: right;\n",
       "    }\n",
       "</style>\n",
       "<table border=\"1\" class=\"dataframe\">\n",
       "  <thead>\n",
       "    <tr style=\"text-align: right;\">\n",
       "      <th></th>\n",
       "      <th>qnt_produzida</th>\n",
       "      <th>mun_id</th>\n",
       "    </tr>\n",
       "  </thead>\n",
       "  <tbody>\n",
       "    <tr>\n",
       "      <th>0</th>\n",
       "      <td>5718.0</td>\n",
       "      <td>1200179</td>\n",
       "    </tr>\n",
       "    <tr>\n",
       "      <th>1</th>\n",
       "      <td>15250.5</td>\n",
       "      <td>1200385</td>\n",
       "    </tr>\n",
       "    <tr>\n",
       "      <th>2</th>\n",
       "      <td>6915.0</td>\n",
       "      <td>1200401</td>\n",
       "    </tr>\n",
       "    <tr>\n",
       "      <th>3</th>\n",
       "      <td>1350.0</td>\n",
       "      <td>1200450</td>\n",
       "    </tr>\n",
       "    <tr>\n",
       "      <th>4</th>\n",
       "      <td>100.5</td>\n",
       "      <td>1200252</td>\n",
       "    </tr>\n",
       "  </tbody>\n",
       "</table>\n",
       "</div>"
      ],
      "text/plain": [
       "   qnt_produzida   mun_id\n",
       "0         5718.0  1200179\n",
       "1        15250.5  1200385\n",
       "2         6915.0  1200401\n",
       "3         1350.0  1200450\n",
       "4          100.5  1200252"
      ]
     },
     "execution_count": 9,
     "metadata": {},
     "output_type": "execute_result"
    }
   ],
   "source": [
    "res_soja.head()"
   ]
  },
  {
   "cell_type": "markdown",
   "id": "6de3f43d",
   "metadata": {},
   "source": [
    "# df Café"
   ]
  },
  {
   "cell_type": "code",
   "execution_count": 10,
   "id": "fe0c0f7f",
   "metadata": {},
   "outputs": [
    {
     "data": {
      "text/html": [
       "<div>\n",
       "<style scoped>\n",
       "    .dataframe tbody tr th:only-of-type {\n",
       "        vertical-align: middle;\n",
       "    }\n",
       "\n",
       "    .dataframe tbody tr th {\n",
       "        vertical-align: top;\n",
       "    }\n",
       "\n",
       "    .dataframe thead th {\n",
       "        text-align: right;\n",
       "    }\n",
       "</style>\n",
       "<table border=\"1\" class=\"dataframe\">\n",
       "  <thead>\n",
       "    <tr style=\"text-align: right;\">\n",
       "      <th></th>\n",
       "      <th>qnt_produzida</th>\n",
       "      <th>mun_id</th>\n",
       "    </tr>\n",
       "  </thead>\n",
       "  <tbody>\n",
       "    <tr>\n",
       "      <th>0</th>\n",
       "      <td>2100</td>\n",
       "      <td>3108206</td>\n",
       "    </tr>\n",
       "    <tr>\n",
       "      <th>1</th>\n",
       "      <td>2767</td>\n",
       "      <td>3109303</td>\n",
       "    </tr>\n",
       "    <tr>\n",
       "      <th>2</th>\n",
       "      <td>1680</td>\n",
       "      <td>3126208</td>\n",
       "    </tr>\n",
       "    <tr>\n",
       "      <th>3</th>\n",
       "      <td>9860</td>\n",
       "      <td>3170404</td>\n",
       "    </tr>\n",
       "    <tr>\n",
       "      <th>4</th>\n",
       "      <td>637</td>\n",
       "      <td>3128600</td>\n",
       "    </tr>\n",
       "  </tbody>\n",
       "</table>\n",
       "</div>"
      ],
      "text/plain": [
       "   qnt_produzida   mun_id\n",
       "0           2100  3108206\n",
       "1           2767  3109303\n",
       "2           1680  3126208\n",
       "3           9860  3170404\n",
       "4            637  3128600"
      ]
     },
     "execution_count": 10,
     "metadata": {},
     "output_type": "execute_result"
    }
   ],
   "source": [
    "cafe = pd.read_excel(\"cafe.xlsx\")\n",
    "cafe = format_df(cafe)\n",
    "cafe.head()"
   ]
  },
  {
   "cell_type": "markdown",
   "id": "a1486d84",
   "metadata": {},
   "source": [
    "# df Laranja"
   ]
  },
  {
   "cell_type": "code",
   "execution_count": 14,
   "id": "920e1e6a",
   "metadata": {},
   "outputs": [
    {
     "data": {
      "text/html": [
       "<div>\n",
       "<style scoped>\n",
       "    .dataframe tbody tr th:only-of-type {\n",
       "        vertical-align: middle;\n",
       "    }\n",
       "\n",
       "    .dataframe tbody tr th {\n",
       "        vertical-align: top;\n",
       "    }\n",
       "\n",
       "    .dataframe thead th {\n",
       "        text-align: right;\n",
       "    }\n",
       "</style>\n",
       "<table border=\"1\" class=\"dataframe\">\n",
       "  <thead>\n",
       "    <tr style=\"text-align: right;\">\n",
       "      <th></th>\n",
       "      <th>qnt_produzida</th>\n",
       "      <th>mun_id</th>\n",
       "    </tr>\n",
       "  </thead>\n",
       "  <tbody>\n",
       "    <tr>\n",
       "      <th>0</th>\n",
       "      <td>7000</td>\n",
       "      <td>3109303</td>\n",
       "    </tr>\n",
       "    <tr>\n",
       "      <th>1</th>\n",
       "      <td>22400</td>\n",
       "      <td>3126208</td>\n",
       "    </tr>\n",
       "    <tr>\n",
       "      <th>2</th>\n",
       "      <td>150</td>\n",
       "      <td>3170404</td>\n",
       "    </tr>\n",
       "    <tr>\n",
       "      <th>3</th>\n",
       "      <td>970</td>\n",
       "      <td>3136306</td>\n",
       "    </tr>\n",
       "    <tr>\n",
       "      <th>4</th>\n",
       "      <td>66</td>\n",
       "      <td>3147006</td>\n",
       "    </tr>\n",
       "  </tbody>\n",
       "</table>\n",
       "</div>"
      ],
      "text/plain": [
       "   qnt_produzida   mun_id\n",
       "0           7000  3109303\n",
       "1          22400  3126208\n",
       "2            150  3170404\n",
       "3            970  3136306\n",
       "4             66  3147006"
      ]
     },
     "execution_count": 14,
     "metadata": {},
     "output_type": "execute_result"
    }
   ],
   "source": [
    "laranja = pd.read_excel(\"laranja.xlsx\")\n",
    "laranja = format_df(laranja)\n",
    "laranja.head()"
   ]
  },
  {
   "cell_type": "markdown",
   "id": "8b8ff8a7",
   "metadata": {},
   "source": [
    "# Soja"
   ]
  },
  {
   "cell_type": "code",
   "execution_count": 11,
   "id": "7016773f",
   "metadata": {},
   "outputs": [
    {
     "data": {
      "text/plain": [
       "array([['1', 'Soja']], dtype='<U11')"
      ]
     },
     "execution_count": 11,
     "metadata": {},
     "output_type": "execute_result"
    }
   ],
   "source": [
    "# Adicionar soja às matérias-primas\n",
    "con.execute(\"INSERT INTO feedstock (type_id, name) VALUES (1, 'Soja')\")\n",
    "\n",
    "np.array(list(con.execute(\"SELECT id, name FROM feedstock\")))"
   ]
  },
  {
   "cell_type": "code",
   "execution_count": 12,
   "id": "c0a171d2",
   "metadata": {},
   "outputs": [
    {
     "data": {
      "text/plain": [
       "<sqlite3.Cursor at 0x2117a3e2420>"
      ]
     },
     "execution_count": 12,
     "metadata": {},
     "output_type": "execute_result"
    }
   ],
   "source": [
    "con.executemany(\n",
    "\"\"\"\n",
    "INSERT INTO feedstock_production (feedstock_id, year, quantity_produced, mun_id)\n",
    "VALUES (1, 2021, ?, ?)\n",
    "\"\"\",\n",
    "soja.values.tolist()\n",
    ")"
   ]
  },
  {
   "cell_type": "code",
   "execution_count": 15,
   "id": "03daf975",
   "metadata": {},
   "outputs": [
    {
     "data": {
      "text/plain": [
       "[(1, 1, 3812.0, 1200179),\n",
       " (2, 1, 10167.0, 1200385),\n",
       " (3, 1, 4610.0, 1200401),\n",
       " (4, 1, 900.0, 1200450),\n",
       " (5, 1, 67.0, 1200252)]"
      ]
     },
     "execution_count": 15,
     "metadata": {},
     "output_type": "execute_result"
    }
   ],
   "source": [
    "list(con.execute(\"SELECT id, feedstock_id, quantity_produced, mun_id FROM feedstock_production\"))[:5]"
   ]
  },
  {
   "cell_type": "markdown",
   "id": "cb3c41ba",
   "metadata": {},
   "source": [
    "# Resíduos soja"
   ]
  },
  {
   "cell_type": "code",
   "execution_count": 16,
   "id": "5f601c3d",
   "metadata": {},
   "outputs": [
    {
     "data": {
      "text/plain": [
       "array([['1', 'Soja'],\n",
       "       ['2', 'Resíduos de Soja']], dtype='<U16')"
      ]
     },
     "execution_count": 16,
     "metadata": {},
     "output_type": "execute_result"
    }
   ],
   "source": [
    "# Adicionar resíduos de soja às matérias-primas\n",
    "con.execute(\"INSERT INTO feedstock (type_id, name) VALUES (2, 'Resíduos de Soja')\")\n",
    "\n",
    "np.array(list(con.execute(\"SELECT id, name FROM feedstock\")))"
   ]
  },
  {
   "cell_type": "code",
   "execution_count": 17,
   "id": "05a20e70",
   "metadata": {},
   "outputs": [
    {
     "data": {
      "text/plain": [
       "<sqlite3.Cursor at 0x2117c02d340>"
      ]
     },
     "execution_count": 17,
     "metadata": {},
     "output_type": "execute_result"
    }
   ],
   "source": [
    "con.executemany(\n",
    "\"\"\"\n",
    "INSERT INTO feedstock_production (feedstock_id, year, quantity_produced, mun_id)\n",
    "VALUES (2, 2021, ?, ?)\n",
    "\"\"\",\n",
    "res_soja.values.tolist()\n",
    ")"
   ]
  },
  {
   "cell_type": "code",
   "execution_count": 18,
   "id": "4a47f000",
   "metadata": {},
   "outputs": [
    {
     "data": {
      "text/plain": [
       "[(2470, 2, 5718.0, 1200179),\n",
       " (2471, 2, 15250.5, 1200385),\n",
       " (2472, 2, 6915.0, 1200401),\n",
       " (2473, 2, 1350.0, 1200450),\n",
       " (2474, 2, 100.5, 1200252)]"
      ]
     },
     "execution_count": 18,
     "metadata": {},
     "output_type": "execute_result"
    }
   ],
   "source": [
    "list(con.execute(\"SELECT id, feedstock_id, quantity_produced, mun_id FROM feedstock_production WHERE feedstock_id = 2\"))[:5]"
   ]
  },
  {
   "cell_type": "markdown",
   "id": "e5253fef",
   "metadata": {},
   "source": [
    "# Café"
   ]
  },
  {
   "cell_type": "code",
   "execution_count": 20,
   "id": "e7552969",
   "metadata": {},
   "outputs": [
    {
     "data": {
      "text/plain": [
       "array([['1', 'Soja'],\n",
       "       ['2', 'Resíduos de Soja'],\n",
       "       ['3', 'Café']], dtype='<U16')"
      ]
     },
     "execution_count": 20,
     "metadata": {},
     "output_type": "execute_result"
    }
   ],
   "source": [
    "# Adicionar café às matérias-primas\n",
    "con.execute(\"INSERT INTO feedstock (type_id, name) VALUES (1, 'Café')\")\n",
    "\n",
    "np.array(list(con.execute(\"SELECT id, name FROM feedstock\")))"
   ]
  },
  {
   "cell_type": "code",
   "execution_count": 21,
   "id": "2ada5aae",
   "metadata": {},
   "outputs": [
    {
     "data": {
      "text/plain": [
       "<sqlite3.Cursor at 0x2117a3e2340>"
      ]
     },
     "execution_count": 21,
     "metadata": {},
     "output_type": "execute_result"
    }
   ],
   "source": [
    "con.executemany(\n",
    "\"\"\"\n",
    "INSERT INTO feedstock_production (feedstock_id, year, quantity_produced, mun_id)\n",
    "VALUES (3, 2021, ?, ?)\n",
    "\"\"\",\n",
    "cafe.values.tolist()\n",
    ")"
   ]
  },
  {
   "cell_type": "code",
   "execution_count": 22,
   "id": "ee7ade94",
   "metadata": {},
   "outputs": [
    {
     "data": {
      "text/plain": [
       "[(4939, 3, 2100.0, 3108206),\n",
       " (4940, 3, 2767.0, 3109303),\n",
       " (4941, 3, 1680.0, 3126208),\n",
       " (4942, 3, 9860.0, 3170404),\n",
       " (4943, 3, 637.0, 3128600)]"
      ]
     },
     "execution_count": 22,
     "metadata": {},
     "output_type": "execute_result"
    }
   ],
   "source": [
    "list(con.execute(\"SELECT id, feedstock_id, quantity_produced, mun_id FROM feedstock_production WHERE feedstock_id = 3\"))[:5]"
   ]
  },
  {
   "cell_type": "markdown",
   "id": "05cff552",
   "metadata": {},
   "source": [
    "# Laranja"
   ]
  },
  {
   "cell_type": "code",
   "execution_count": 23,
   "id": "3b2c99a3",
   "metadata": {},
   "outputs": [
    {
     "data": {
      "text/plain": [
       "array([['1', 'Soja'],\n",
       "       ['2', 'Resíduos de Soja'],\n",
       "       ['3', 'Café'],\n",
       "       ['4', 'Laranja']], dtype='<U16')"
      ]
     },
     "execution_count": 23,
     "metadata": {},
     "output_type": "execute_result"
    }
   ],
   "source": [
    "# Adicionar laranja às matérias-primas\n",
    "con.execute(\"INSERT INTO feedstock (type_id, name) VALUES (1, 'Laranja')\")\n",
    "\n",
    "np.array(list(con.execute(\"SELECT id, name FROM feedstock\")))"
   ]
  },
  {
   "cell_type": "code",
   "execution_count": 24,
   "id": "3246f061",
   "metadata": {},
   "outputs": [
    {
     "data": {
      "text/plain": [
       "<sqlite3.Cursor at 0x2117bbc3c70>"
      ]
     },
     "execution_count": 24,
     "metadata": {},
     "output_type": "execute_result"
    }
   ],
   "source": [
    "con.executemany(\n",
    "\"\"\"\n",
    "INSERT INTO feedstock_production (feedstock_id, year, quantity_produced, mun_id)\n",
    "VALUES (4, 2021, ?, ?)\n",
    "\"\"\",\n",
    "laranja.values.tolist()\n",
    ")"
   ]
  },
  {
   "cell_type": "code",
   "execution_count": 25,
   "id": "e614a039",
   "metadata": {},
   "outputs": [
    {
     "data": {
      "text/plain": [
       "[(6353, 4, 7000.0, 3109303),\n",
       " (6354, 4, 22400.0, 3126208),\n",
       " (6355, 4, 150.0, 3170404),\n",
       " (6356, 4, 970.0, 3136306),\n",
       " (6357, 4, 66.0, 3147006)]"
      ]
     },
     "execution_count": 25,
     "metadata": {},
     "output_type": "execute_result"
    }
   ],
   "source": [
    "list(con.execute(\"SELECT id, feedstock_id, quantity_produced, mun_id FROM feedstock_production WHERE feedstock_id = 4\"))[:5]"
   ]
  },
  {
   "cell_type": "code",
   "execution_count": 26,
   "id": "33466872",
   "metadata": {},
   "outputs": [],
   "source": [
    "con.commit()"
   ]
  },
  {
   "cell_type": "code",
   "execution_count": null,
   "id": "5537f5a5",
   "metadata": {},
   "outputs": [],
   "source": []
  }
 ],
 "metadata": {
  "kernelspec": {
   "display_name": "Python 3 (ipykernel)",
   "language": "python",
   "name": "python3"
  },
  "language_info": {
   "codemirror_mode": {
    "name": "ipython",
    "version": 3
   },
   "file_extension": ".py",
   "mimetype": "text/x-python",
   "name": "python",
   "nbconvert_exporter": "python",
   "pygments_lexer": "ipython3",
   "version": "3.10.4"
  }
 },
 "nbformat": 4,
 "nbformat_minor": 5
}
